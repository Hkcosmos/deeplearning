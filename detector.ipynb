{
 "cells": [
  {
   "cell_type": "code",
   "execution_count": 1,
   "metadata": {},
   "outputs": [
    {
     "name": "stdout",
     "output_type": "stream",
     "text": [
      "[]\n"
     ]
    }
   ],
   "source": [
    "import tensorflow as tf,cv2,os,time\n",
    "import numpy as np\n",
    "from tensorflow.python.keras.utils.data_utils import get_file\n",
    "gpus = tf.config.experimental.list_physical_devices('GPU')\n",
    "print(gpus)\n",
    "if gpus:\n",
    "  try:\n",
    "    for gpu in gpus:\n",
    "      tf.config.experimental.set_memory_growth(gpu, True)\n",
    "  except RuntimeError as e:\n",
    "    print(e)"
   ]
  },
  {
   "cell_type": "code",
   "execution_count": 9,
   "metadata": {},
   "outputs": [],
   "source": [
    "np.random.seed(0)\n",
    "\n",
    "class Detector:\n",
    "    def __init__(self):\n",
    "        pass\n",
    "\n",
    "    def readclasses(self,classfilepath):\n",
    "        with open(classfilepath,'r') as f:\n",
    "            self.classeslist = f.read().splitlines()\n",
    "\n",
    "        self.colorlist = np.random.uniform(low=0, high=255, size=(len(self.classeslist),3))\n",
    "\n",
    "        print(len(self.classeslist),len(self.colorlist))\n",
    "\n",
    "    def downloadmodel(self,modelURL):\n",
    "\n",
    "        filename = os.path.basename(modelURL)\n",
    "        self.modelname = filename[:filename.index('.')]\n",
    "\n",
    "        print(filename)\n",
    "        print(self.modelname)\n",
    "\n",
    "        self.cachedir = \"./pretrained_model\"\n",
    "        os.makedirs(self.cachedir,exist_ok=True)\n",
    "        get_file(fname=filename, origin=modelURL, cache_dir=self.cachedir, cache_subdir=\"checkpoints\", extract=True) \n",
    "\n",
    "    def loadmodel(self):\n",
    "        print(\"Loading Model:\"+self.modelname)\n",
    "        tf.keras.backend.clear_session()\n",
    "        self.model =  tf.saved_model.load(os.path.join(self.cachedir, \"checkpoints\", self.modelname, \"saved_model\"))\n",
    "        print(\"Model:\"+self.modelname+\"Loaded successfully\")\n",
    "\n",
    "    def createboundingbox(self,image, threshold=0.5):\n",
    "        inputTensor = cv2.cvtColor(image.copy(), cv2.COLOR_BGR2RGB)\n",
    "        inputTensor = tf.convert_to_tensor(inputTensor, dtype=tf.uint8)\n",
    "        inputTensor = inputTensor[tf.newaxis,...]\n",
    "        detections = self.model(inputTensor)\n",
    "        bboxs = detections['detection_boxes'][0].numpy()\n",
    "        classindexes = detections['detection_classes'][0].numpy().astype(np.int32)\n",
    "        classscores = detections['detection_scores'][0].numpy()\n",
    "\n",
    "        imh, imw, imc = image.shape\n",
    "\n",
    "        bboxidx = tf.image.non_max_suppression(bboxs, classscores, max_output_size=50, iou_threshold=0.5, score_threshold=0.5)\n",
    "\n",
    "        print(bboxidx)\n",
    "\n",
    "        if len(bboxidx) != 0:\n",
    "            for i in bboxidx:\n",
    "                bbox = tuple(bboxs[i].tolist())\n",
    "                classconfidence = round(100*classscores[i])     \n",
    "                classindex = classindexes[i]\n",
    "                classlabeltext = self.classeslist[classindex]\n",
    "                classcolor = self.colorlist[classindex]\n",
    "                displaytext = '{}: {}%'.format(classlabeltext, classconfidence)\n",
    "\n",
    "                ymin, xmin, ymax, xmax = bbox\n",
    "                xmin, xmax, ymin, ymax = (xmin * imw, xmax * imw, ymin * imh, ymax * imh)\n",
    "                xmin, xmax, ymin, ymax = int(xmin), int(xmax), int(ymin), int(ymax)\n",
    "                cv2.rectangle(image, (xmin, ymin), (xmax, ymax), classcolor, thickness=1) \n",
    "                cv2.putText(image, displaytext, (xmin,ymin - 10), cv2.FONT_HERSHEY_PLAIN, 1, classcolor, 2)\n",
    "                \n",
    "        return image\n",
    "\n",
    "    def predictimage(self, imagepath, threshold = 0.5):\n",
    "\n",
    "        image = cv2.imread(imagepath)\n",
    "        bboximage = self.createboundingbox(image, threshold)\n",
    "        cv2.imwrite(self.modelname + \".jpg\", bboximage)\n",
    "        cv2.imshow(\"Result\", image)\n",
    "        cv2.waitKey(0) \n",
    "        cv2.destroyAllWindows()\n"
   ]
  },
  {
   "cell_type": "code",
   "execution_count": null,
   "metadata": {},
   "outputs": [],
   "source": []
  },
  {
   "cell_type": "code",
   "execution_count": null,
   "metadata": {},
   "outputs": [],
   "source": []
  }
 ],
 "metadata": {
  "kernelspec": {
   "display_name": "Python 3",
   "language": "python",
   "name": "python3"
  },
  "language_info": {
   "codemirror_mode": {
    "name": "ipython",
    "version": 3
   },
   "file_extension": ".py",
   "mimetype": "text/x-python",
   "name": "python",
   "nbconvert_exporter": "python",
   "pygments_lexer": "ipython3",
   "version": "3.9.13"
  },
  "orig_nbformat": 4,
  "vscode": {
   "interpreter": {
    "hash": "7c08a13ba67f1b38da6be7a20078d2956d51b604bbdb225b4a5d628023e8b302"
   }
  }
 },
 "nbformat": 4,
 "nbformat_minor": 2
}
